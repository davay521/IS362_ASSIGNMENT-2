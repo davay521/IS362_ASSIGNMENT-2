{
 "cells": [
  {
   "cell_type": "markdown",
   "metadata": {},
   "source": [
    "![PYTHON](https://techspawn.com/wp-content/uploads/2016/10/Python_logo.png)\n",
    "\n",
    "# Lists and List Comprehension\n",
    "\n",
    "## Basic lists\n",
    "### The list type is a container that holds a number of other objects, in a given order. The list type implements the sequence protocol, and also allows you to add and remove objects from the sequence."
   ]
  },
  {
   "cell_type": "code",
   "execution_count": 1,
   "metadata": {
    "collapsed": false
   },
   "outputs": [
    {
     "name": "stdout",
     "output_type": "stream",
     "text": [
      "VOLKSWAGON\n",
      "[6]\n"
     ]
    }
   ],
   "source": [
    "list_one = ['BMW','ACURA','VOLKSWAGON','FORD'];\n",
    "list_2 = [3.2,4.7,6,5.4];\n",
    "\n",
    "print  (list_one[2])\n",
    "print  (list_2[2:3])\n"
   ]
  },
  {
   "cell_type": "markdown",
   "metadata": {},
   "source": [
    "# List.append \n",
    "\n",
    "## Add an item to the end of the list\n",
    "\n",
    "### The append method adds a single item to the end of the list, the extend method adds items from another list (or any sequence) to the end, and insert inserts an item at a given index, and move the remaining items to the right."
   ]
  },
  {
   "cell_type": "code",
   "execution_count": 2,
   "metadata": {
    "collapsed": false
   },
   "outputs": [
    {
     "name": "stdout",
     "output_type": "stream",
     "text": [
      "['BMW', 'ACURA', 'VOLKSWAGON', 'FORD', 'Tesla']\n",
      "[3.2, 4.7, 6, 5.4]\n",
      "MY FAVORITE MAKE IS\n",
      "BMW\n"
     ]
    }
   ],
   "source": [
    "list_one = ['BMW','ACURA','VOLKSWAGON','FORD'];\n",
    "list_2 = [3.2,4.7,6,5.4];\n",
    "SPEED = \"My favorite Make is\".upper()\n",
    "list_one.append ('Tesla')\n",
    "\n",
    "print (list_one)\n",
    "print (list_2)\n",
    "print (SPEED)\n",
    "print (list_one[0])"
   ]
  },
  {
   "cell_type": "code",
   "execution_count": null,
   "metadata": {
    "collapsed": true
   },
   "outputs": [],
   "source": []
  }
 ],
 "metadata": {
  "kernelspec": {
   "display_name": "Python [default]",
   "language": "python",
   "name": "python3"
  },
  "language_info": {
   "codemirror_mode": {
    "name": "ipython",
    "version": 3
   },
   "file_extension": ".py",
   "mimetype": "text/x-python",
   "name": "python",
   "nbconvert_exporter": "python",
   "pygments_lexer": "ipython3",
   "version": "3.5.2"
  }
 },
 "nbformat": 4,
 "nbformat_minor": 1
}
